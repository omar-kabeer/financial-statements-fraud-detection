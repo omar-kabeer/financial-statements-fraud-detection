{
 "cells": [
  {
   "cell_type": "markdown",
   "id": "223b2e9c",
   "metadata": {},
   "source": [
    "<a id='importing-dependencies'></a>\n",
    "<font size=\"+3\" color='#053c96'><b> Feature Engineering</b></font>  \n",
    "\n",
    "Feature engineering is a critical step in the data analysis pipeline that involves transforming raw data into meaningful features to enhance the predictive power of machine learning models. In this notebook, we focus on crafting and refining features specific to financial data for effective fraud detection.\n",
    "\n",
    "#### Objectives:\n",
    "- **Enhance Model Performance**: Create features that improve the accuracy, precision, and recall of our models.\n",
    "- **Capture Financial Insights**: Derive meaningful metrics and ratios from the raw data to better reflect financial health and risk.\n",
    "- **Address Data Challenges**: Handle messy, imbalanced, or incomplete data by engineering robust features that mitigate these issues.\n",
    "\n",
    "#### Key Highlights:\n",
    "1. **Feature Selection**:\n",
    "   - Identify and retain features relevant to detecting financial anomalies or fraud.\n",
    "   - Remove redundant or non-informative features.\n",
    "\n",
    "2. **Feature Transformation**:\n",
    "   - Normalize and standardize numerical features to ensure consistency across scales.\n",
    "   - Encode categorical variables for compatibility with machine learning models.\n",
    "\n",
    "3. **Derived Metrics**:\n",
    "   - Engineer financial ratios such as **Debt-to-Equity Ratio**, **Profit Margins**, and **Liquidity Ratios** to capture meaningful patterns.\n",
    "   - Incorporate domain-specific knowledge to design features relevant to financial statement analysis.\n",
    "\n",
    "4. **Feature Validation**:\n",
    "   - Evaluate the impact of engineered features through statistical analysis and visualization.\n",
    "   - Assess feature importance using feature selection methods.\n",
    "\n",
    "This notebook serves as a bridge between raw data exploration and model development, ensuring that the final dataset is well-prepared for training robust machine learning models.\n"
   ]
  },
  {
   "cell_type": "markdown",
   "id": "63c48e75",
   "metadata": {},
   "source": [
    "<a id='importing-dependencies'></a>\n",
    "<font size=\"+2\" color='#053c96'><b> Importing Libraries</b></font>  "
   ]
  },
  {
   "cell_type": "code",
   "execution_count": 3,
   "id": "cfa7c875",
   "metadata": {},
   "outputs": [],
   "source": [
    "import sys\n",
    "# Insert the parent path relative to this notebook so we can import from the src folder.\n",
    "sys.path.insert(0, \"..\")\n",
    "\n",
    "from src.dependencies import *\n",
    "from src.functions import *"
   ]
  },
  {
   "cell_type": "markdown",
   "id": "7725f239",
   "metadata": {},
   "source": [
    "To import the necessary dependencies from the src folder, we have inserted the parent path relative to our notebook using sys.path.insert(0, \"..\")."
   ]
  },
  {
   "cell_type": "markdown",
   "id": "8e2a29aa",
   "metadata": {},
   "source": [
    "<a id='data'></a>\n",
    "<font size=\"+2\" color='#053c96'><b> Data</b></font>"
   ]
  },
  {
   "cell_type": "markdown",
   "id": "823e1ce8",
   "metadata": {},
   "source": [
    "#### Loading the data\n",
    "\n",
    "Below is the data that will be used in feature engineering"
   ]
  },
  {
   "cell_type": "code",
   "execution_count": 4,
   "id": "020ddc6b",
   "metadata": {},
   "outputs": [],
   "source": [
    "df = pd.read_csv('../src/data/cleaned_financial_data.csv')"
   ]
  },
  {
   "cell_type": "markdown",
   "id": "1b822bf4",
   "metadata": {},
   "source": [
    "<a id='feature-engineering'></a>\n",
    "<font size=\"+2\" color='#780404'><b> Vertical Analysis</b></font>   \n",
    "Vertical analysis is a technique for analyzing the relationships between the items on any one of the financial statements in one reporting period. The analysis results in the relationships between components expressed as percentages that can then be compared across periods. This method is often referred to as “common sizing” financial statements. In the vertical analysis of an income statement, net sales is assigned 100%; for a balance sheet, total assets is assigned 100% on the asset side, and total liabilities and equity is expressed as 100% on the other side. All other items in each of the sections are expressed as a percentage of these numbers."
   ]
  },
  {
   "cell_type": "markdown",
   "id": "355f8b4f",
   "metadata": {},
   "source": [
    "#### Income Statement Vertical Analysis"
   ]
  },
  {
   "cell_type": "code",
   "execution_count": 5,
   "id": "4ea0a226",
   "metadata": {},
   "outputs": [],
   "source": [
    "df['VA_Revenue_CostOfSales'] = df['CostOfSales'] / df['Revenue'] * 100"
   ]
  },
  {
   "cell_type": "code",
   "execution_count": 6,
   "id": "f9c85341",
   "metadata": {},
   "outputs": [],
   "source": [
    "df['VA_Revenue_GrossProfi'] = df['GrossProfit'] / df['Revenue'] * 100"
   ]
  },
  {
   "cell_type": "code",
   "execution_count": 7,
   "id": "a2fdd29b",
   "metadata": {},
   "outputs": [],
   "source": [
    "df['VA_Revenue_TotalCostBase'] = df['TotalCostBase'] / df['Revenue'] * 100"
   ]
  },
  {
   "cell_type": "code",
   "execution_count": 8,
   "id": "a10e5144",
   "metadata": {},
   "outputs": [],
   "source": [
    "df['VA_Revenue_EBIT'] = df['EBIT'] / df['Revenue'] * 100"
   ]
  },
  {
   "cell_type": "code",
   "execution_count": 9,
   "id": "64744a2e",
   "metadata": {},
   "outputs": [],
   "source": [
    "df['VA_Revenue_NetProfitAfterTax'] = df['NetProfitAfterTax'] / df['Revenue'] * 100"
   ]
  },
  {
   "cell_type": "markdown",
   "id": "2b86b530",
   "metadata": {},
   "source": [
    "#### Balance Sheet Vertical Analysis"
   ]
  },
  {
   "cell_type": "code",
   "execution_count": 10,
   "id": "c94d4dba",
   "metadata": {},
   "outputs": [],
   "source": [
    "df['VA_TotalEquity_RetainedEarnings'] = df['RetainedEarnings'] / df['TotalEquity'] * 100"
   ]
  },
  {
   "cell_type": "code",
   "execution_count": 11,
   "id": "136915e2",
   "metadata": {},
   "outputs": [],
   "source": [
    "df['VA_NCL_TotalEquityAndLiabilities_TotalEquity'] = df['TotalEquity'] / df['NCL_TotalEquityAndLiabilities'] * 100"
   ]
  },
  {
   "cell_type": "code",
   "execution_count": 12,
   "id": "d77a5f4c",
   "metadata": {},
   "outputs": [],
   "source": [
    "df['VA_NCL_TotalEquityAndLiabilities_TotalLiabilities'] = df['TotalLiabilities'] / df['NCL_TotalEquityAndLiabilities'] * 100"
   ]
  },
  {
   "cell_type": "code",
   "execution_count": 13,
   "id": "57e200be",
   "metadata": {},
   "outputs": [],
   "source": [
    "df['VA_TotalAssets_NCA_TotalNonCurrentAssets'] = df['NCA_TotalNonCurrentAssets'] / df['TotalAssets'] * 100"
   ]
  },
  {
   "cell_type": "code",
   "execution_count": 14,
   "id": "beb432bd",
   "metadata": {},
   "outputs": [],
   "source": [
    "df['VA_TotalAssets_CA_TotalCurrentAssets'] = df['CA_TotalCurrentAssets'] / df['TotalAssets'] * 100"
   ]
  },
  {
   "cell_type": "markdown",
   "id": "18543b3f",
   "metadata": {},
   "source": [
    "<a id='feature-engineering'></a>\n",
    "<font size=\"+2\" color='#780404'><b> Ratio Analysis</b></font>   \n",
    "Ratio analysis is a tool used to evaluate the financial performance and health of a company by analyzing the relationships between different financial statement items. It involves calculating various financial ratios based on the financial data available in a company's financial statements, such as the balance sheet, income statement, and cash flow statement.\n",
    "\n",
    "Financial ratios can be broadly classified into four categories: liquidity ratios, solvency ratios, profitability ratios, and activity ratios."
   ]
  },
  {
   "cell_type": "markdown",
   "id": "73977da4",
   "metadata": {},
   "source": [
    "#### Gross Profit Margin\n",
    "Gross Profit Margin is a key financial ratio that measures a company's profitability and efficiency in producing and selling its products or services. It is often used by investors, creditors, and financial analysts to assess a company's financial health and performance, and to compare it to its peers or industry benchmarks."
   ]
  },
  {
   "cell_type": "code",
   "execution_count": 15,
   "id": "614f2c99",
   "metadata": {},
   "outputs": [],
   "source": [
    "df['GrossProfitMargin'] = df['Revenue'] - df['CostOfSales'] / df['Revenue'] * 100"
   ]
  },
  {
   "cell_type": "markdown",
   "id": "42cb4e02",
   "metadata": {},
   "source": [
    "#### Operating Profit Margin\n",
    "Operating Profit Margin is a financial ratio that measures a company's profitability and efficiency in generating operating income from its revenue."
   ]
  },
  {
   "cell_type": "code",
   "execution_count": 16,
   "id": "d6a1d54f",
   "metadata": {},
   "outputs": [],
   "source": [
    "df['OperatingProfitMargin'] = df['EBITDA'] / df['Revenue']"
   ]
  },
  {
   "cell_type": "markdown",
   "id": "7163eb70",
   "metadata": {},
   "source": [
    "#### Net Profit Margin\n",
    "Net Profit Margin is a financial ratio that measures a company's profitability and efficiency in generating profit after all expenses have been accounted for. "
   ]
  },
  {
   "cell_type": "code",
   "execution_count": 17,
   "id": "dd4e4e8a",
   "metadata": {},
   "outputs": [],
   "source": [
    "df['NetProfitMargin'] = df['NetProfitAfterTax'] / df['Revenue']"
   ]
  },
  {
   "cell_type": "markdown",
   "id": "26e0cf1a",
   "metadata": {},
   "source": [
    "#### Asset turnover ratio\n",
    "The asset turnover ratio is a financial ratio that measures a company's efficiency in using its assets to generate revenue. It is calculated by dividing the company's net sales by its total assets."
   ]
  },
  {
   "cell_type": "code",
   "execution_count": 18,
   "id": "27d076cb",
   "metadata": {},
   "outputs": [],
   "source": [
    "df['AssetTurnoverRatio'] = df['EBITDA'] / df['TotalAssets']"
   ]
  },
  {
   "cell_type": "markdown",
   "id": "33288d86",
   "metadata": {},
   "source": [
    "#### EBIT to Sales Ratio\n",
    "The EBIT to Sales Ratio is a financial ratio that measures a company's operating profitability as a percentage of its total revenue or sales. It is calculated by dividing a company's Earnings Before Interest and Taxes (EBIT) by its total revenue."
   ]
  },
  {
   "cell_type": "code",
   "execution_count": 19,
   "id": "411fc12f",
   "metadata": {},
   "outputs": [],
   "source": [
    "df['EBITtoSalesRatio'] = df['EBIT'] / df['Revenue']"
   ]
  },
  {
   "cell_type": "markdown",
   "id": "4f54d009",
   "metadata": {},
   "source": [
    "#### Non-Current Asset Turnover Ratio\n",
    "Non-Current Asset Turnover Ratio is a financial ratio that measures a company's efficiency in generating revenue from its Non-Current Assets."
   ]
  },
  {
   "cell_type": "code",
   "execution_count": 20,
   "id": "d232a74e",
   "metadata": {},
   "outputs": [],
   "source": [
    "df['NCA_TurnoverRatio'] = df['Revenue'] / (df['NCA_TotalNonCurrentAssets'] - df['DepreciationAmortisationTotal'])"
   ]
  },
  {
   "cell_type": "markdown",
   "id": "dc92696a",
   "metadata": {},
   "source": [
    "#### Debt to Equity Ratio\n",
    "The debt-to-equity ratio is a financial ratio that shows the proportion of debt and equity that a company is using to finance its assets. It is calculated by dividing the company's total liabilities by its shareholder equity."
   ]
  },
  {
   "cell_type": "code",
   "execution_count": 21,
   "id": "09710690",
   "metadata": {},
   "outputs": [],
   "source": [
    "df['DebtEquityRatio'] = df['TotalLiabilities'] / df['TotalEquity']"
   ]
  },
  {
   "cell_type": "markdown",
   "id": "d19c2961",
   "metadata": {},
   "source": [
    "#### Cash Conversion Cycle\n",
    "The cash conversion cycle (CCC) is a financial metric used to measure the time it takes a company to convert its inventory and other resources into cash flow from sales. It's calculated as:\n",
    "\n",
    "CCC = DIO + DSO - DPO\n",
    "\n",
    "where DIO is the days inventory outstanding, DSO is the days sales outstanding, and DPO is the days payable outstanding.\n",
    "\n",
    "To calculate the CCC, we need to calculate DIO, DSO, and DPO first. We can use the following formulas:\n",
    "\n",
    "DIO = (Inventory / Cost of Goods Sold) * 365\n",
    "DSO = (Accounts Receivable / Revenue) * 365\n",
    "DPO = (Accounts Payable / Cost of Goods Sold) * 365\n",
    "\n",
    "We can then use these values to calculate the CCC:\n",
    "\n",
    "CCC = DIO + DSO - DPO\n",
    "\n",
    "where:\n",
    "\n",
    "Inventory is the value of the inventory.\n",
    "Cost of Goods Sold is the cost of the goods sold.\n",
    "Accounts Receivable is the value of the accounts receivable.\n",
    "Revenue is the revenue generated by the company.\n",
    "Accounts Payable is the value of the accounts payable."
   ]
  },
  {
   "cell_type": "code",
   "execution_count": 22,
   "id": "291b8736",
   "metadata": {},
   "outputs": [],
   "source": [
    "DIO = (df['CA_Inventories'] / df['CostOfSales']) * 365\n",
    "DSO = (df['CA_TradeAndOtherReceivables'] / df['Revenue']) * 365\n",
    "DPO = (df['CL_TradeAndOtherPayables'] / df['CostOfSales']) * 365\n",
    "\n",
    "df['CCC'] = DIO + DSO - DPO"
   ]
  },
  {
   "cell_type": "markdown",
   "id": "2c9a82d4",
   "metadata": {},
   "source": [
    "#### Return on Equity Ratio\n",
    "The formula for return on equity ratio is:\n",
    "\n",
    "Return on Equity Ratio = Net Profit After Tax / Total Shareholder Equity Before Minorities"
   ]
  },
  {
   "cell_type": "code",
   "execution_count": 23,
   "id": "77b11d5f",
   "metadata": {},
   "outputs": [],
   "source": [
    "df['ReturnEquityRatio'] = df['NetProfitAfterTax'] / df['TotalShareholderEquityBeforeMinorities']"
   ]
  },
  {
   "cell_type": "markdown",
   "id": "cabf7e28",
   "metadata": {},
   "source": [
    "#### Quick Ratio\n",
    "To calculate the quick ratio, you will need to use the formula:\n",
    "\n",
    "Quick Ratio = (Current Assets - Inventories) / Current Liabilities"
   ]
  },
  {
   "cell_type": "code",
   "execution_count": 24,
   "id": "64b3f58a",
   "metadata": {},
   "outputs": [],
   "source": [
    "df['QuickRatio'] = (df['CA_TotalCurrentAssets'] - df['CA_Inventories']) / df['CL_TotalCurrentLiabilities']"
   ]
  },
  {
   "cell_type": "markdown",
   "id": "333e9acf",
   "metadata": {},
   "source": [
    "#### Operating Expense Ratio\n",
    "The operating expense ratio is a financial metric that represents the percentage of a company's total revenue that is spent on operating expenses. It is calculated by dividing operating expenses by total revenue and multiplying the result by 100 to express it as a percentage."
   ]
  },
  {
   "cell_type": "code",
   "execution_count": 25,
   "id": "8c95d39c",
   "metadata": {},
   "outputs": [],
   "source": [
    "df['OperatingExpenseRatio'] = (df['OperatingExpensesOverheads'] / df['Revenue']) * -100"
   ]
  },
  {
   "cell_type": "markdown",
   "id": "9dba35f1",
   "metadata": {},
   "source": [
    "#### Return on Assets\n",
    "Return on Assets (ROA) ratio measures a company's ability to generate profit from its assets, and is calculated by dividing a company's net profit by its total assets."
   ]
  },
  {
   "cell_type": "code",
   "execution_count": 26,
   "id": "dde08215",
   "metadata": {},
   "outputs": [],
   "source": [
    "df['ROA'] = df['NetProfitAfterTax'] / df['TotalAssets']"
   ]
  },
  {
   "cell_type": "markdown",
   "id": "9bcfd8a5",
   "metadata": {},
   "source": [
    "#### Operating Margin Ratio\n",
    "The operating margin ratio is calculated by dividing operating income by revenue. Operating income is calculated as revenue minus cost of sales minus operating expenses."
   ]
  },
  {
   "cell_type": "code",
   "execution_count": 27,
   "id": "415a5d20",
   "metadata": {},
   "outputs": [],
   "source": [
    "df['OperatingMarginRatio'] = (df['Revenue'] - df['TotalCostBase']) / df['Revenue']"
   ]
  },
  {
   "cell_type": "markdown",
   "id": "96ec67fd",
   "metadata": {},
   "source": [
    "#### Debt-to-assets ratio\n",
    "The Debt-to-assets ratio is a financial ratio that measures the proportion of a company's total assets that are financed through debt. It shows the degree to which a company is leveraged and can indicate the level of risk associated with investing in the company."
   ]
  },
  {
   "cell_type": "code",
   "execution_count": 28,
   "id": "c7cf1b4d",
   "metadata": {},
   "outputs": [],
   "source": [
    "df[\"DebtToAssetsRatio\"] = df[\"TotalLiabilities\"] / df[\"TotalAssets\"]"
   ]
  },
  {
   "cell_type": "markdown",
   "id": "842d9f08",
   "metadata": {},
   "source": [
    "#### Cash Ratio\n",
    "Cash ratio: This ratio measures a company's ability to pay its short-term obligations using only its cash and cash equivalents."
   ]
  },
  {
   "cell_type": "code",
   "execution_count": 29,
   "id": "d7f2fcda",
   "metadata": {},
   "outputs": [],
   "source": [
    "df[\"CashRatio\"] = df[\"CFF_NetIncCashAndCashEquivalents\"] / df[\"CL_TotalCurrentLiabilities\"]"
   ]
  },
  {
   "cell_type": "markdown",
   "id": "2080848b",
   "metadata": {},
   "source": [
    "#### Financial Leverage\n",
    "This ratio measures how much a company is relying on debt to finance its operations. It is calculated as total assets divided by total equity."
   ]
  },
  {
   "cell_type": "code",
   "execution_count": 30,
   "id": "a3fca93a",
   "metadata": {},
   "outputs": [],
   "source": [
    "df['FinancialLeverage'] = df['TotalAssets'] / df['TotalEquity']"
   ]
  },
  {
   "cell_type": "markdown",
   "id": "6a3b9e41",
   "metadata": {},
   "source": [
    "#### Dupont Analysis\n",
    "Dupont analysis is a method used to analyze a company's return on equity (ROE) by breaking it down into three components: net profit margin, asset turnover, and financial leverage. Here are the three ratios used in Dupont analysis:\n",
    "\n",
    "By multiplying these three ratios together, we can calculate a company's ROE:\n",
    "\n",
    "ROE = Net Profit Margin x Asset Turnover x Financial Leverage"
   ]
  },
  {
   "cell_type": "code",
   "execution_count": 31,
   "id": "c9b6ebbc",
   "metadata": {},
   "outputs": [],
   "source": [
    "df['DupontAnalysis'] = df['NetProfitMargin'] * df['AssetTurnoverRatio'] * df['FinancialLeverage']"
   ]
  },
  {
   "cell_type": "markdown",
   "id": "f3c9d713",
   "metadata": {},
   "source": [
    "### Saving Engineered Features to CSV\n",
    "\n",
    "The dataset with engineered features is saved for further use in the modeling process. The following code exports the processed data to a CSV file:\n"
   ]
  },
  {
   "cell_type": "code",
   "execution_count": 32,
   "id": "87cd2aa2",
   "metadata": {},
   "outputs": [],
   "source": [
    "df.to_csv('../src/data/featured_financial_data.csv', index=False)"
   ]
  }
 ],
 "metadata": {
  "kernelspec": {
   "display_name": "Python 3 (ipykernel)",
   "language": "python",
   "name": "python3"
  },
  "language_info": {
   "codemirror_mode": {
    "name": "ipython",
    "version": 3
   },
   "file_extension": ".py",
   "mimetype": "text/x-python",
   "name": "python",
   "nbconvert_exporter": "python",
   "pygments_lexer": "ipython3",
   "version": "3.10.9"
  }
 },
 "nbformat": 4,
 "nbformat_minor": 5
}
